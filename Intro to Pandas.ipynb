{
 "cells": [
  {
   "cell_type": "markdown",
   "metadata": {},
   "source": [
    "#### JOIN\n",
    "http://www.datasciencemadesimple.com/join-merge-data-frames-pandas-python/\n",
    "https://jakevdp.github.io/PythonDataScienceHandbook/03.08-aggregation-and-grouping.html\n",
    "##### Merging on default indices\n",
    "1. concat([dfs...], verify_integrity=True) similar to union all, append rows at end, preserving all repetition; raise exception at repeatitive columns\n",
    "2. ignore_index = True, when index is major key or doesn't matter, use ignore_index to reindex\n",
    "3. concat([dfs...], axis='col/1') join\n",
    "4. keys=['df1Name', 'df2Name'], assign a specifier to show where that row came from\n",
    "##### Join\n",
    "1. concat(join=['inner', 'outer',], join_axis=[df.cloumns[..]] ), select join_axis only (NaN imputed)\n",
    "2. join(), on default preforms OUTER ALL JOIN(one-to-many, many-to-many) on first column, preserving all cartisan product rows\n",
    "3. left_on left columnName, right_on right columnName\n",
    "4. merging index, use left_index, right_index combine indices forming new index\n",
    "5. how=['inner', 'outer', 'left', 'right']\n",
    "6. on=.., suffixes=['suffixesToLeft', 'suffixesToRight'], rename your columns by adding suffixes\n"
   ]
  },
  {
   "cell_type": "markdown",
   "metadata": {},
   "source": [
    "#### GROUP BY\n",
    "https://blog.csdn.net/Leonis_v/article/details/51832916\n",
    "1. df.groupby('..').aggregate({'data1': np.min, 'data2' : np.max})\n",
    "2. df.groupby('..').apply(aggFunc)\n",
    "3. custom group key: L = [0,1,2,0,1,1] / L = {'A': 'vowel', 'B': 'consonant', 'C': 'consonant'}; groupby(L)\n"
   ]
  },
  {
   "cell_type": "code",
   "execution_count": 29,
   "metadata": {},
   "outputs": [
    {
     "name": "stdout",
     "output_type": "stream",
     "text": [
      "   bid  val  val2\n",
      "0    1   10    10\n",
      "1    1   20     5\n",
      "2    1   30     0\n",
      "3    2   25    15\n",
      "4    2   35    40\n",
      "0    10\n",
      "1    10\n",
      "2    10\n",
      "3    25\n",
      "4    25\n",
      "Name: val, dtype: int64\n"
     ]
    }
   ],
   "source": [
    "import pandas as pd\n",
    "df = pd.DataFrame({'bid':[1,1,1,2,2], 'val':[10,20,30,25,35], 'val2': [10,5,0,15,40]})                  \n",
    "print (df)\n",
    "df2 = df.groupby('bid')['val'].transform('min')\n",
    "print (df2)\n",
    "# for block_idx, group in df.groupby('bid'):                                                         \n",
    "#     print (block_idx)                                                                                \n",
    "#     print (group)     \n",
    "# for (key1, key2), group in df.groupby(['aid', 'bid']):\n",
    "#     print ((key1, key2))\n",
    "#     print (group)\n",
    "# print (dict(list(df.groupby(['aid', 'bid'])))[(2, 2)])   "
   ]
  },
  {
   "cell_type": "code",
   "execution_count": 21,
   "metadata": {},
   "outputs": [
    {
     "name": "stdout",
     "output_type": "stream",
     "text": [
      "0    False\n",
      "1     True\n",
      "2     True\n",
      "3    False\n",
      "4     True\n",
      "Name: val, dtype: bool\n"
     ]
    },
    {
     "data": {
      "text/plain": [
       "0    1\n",
       "1    2\n",
       "2    3\n",
       "3    4\n",
       "4    5\n",
       "Name: bid, dtype: int64"
      ]
     },
     "execution_count": 21,
     "metadata": {},
     "output_type": "execute_result"
    }
   ],
   "source": [
    "import pandas as pd\n",
    "df = pd.DataFrame({'aid':[3,2,3,2,5], 'bid':[1,1,1,2,2], 'val':['ttt','kkk','kkyy','kiki','lll']})\n",
    "print(df['val'].str.contains(\"kk\") | df['val'].str.contains(\"ll\"))\n",
    "\n",
    "a = pd.DataFrame({'bid':[1,2,3,4,5], 'a': [10,20,30,25,35]})\n",
    "b = pd.DataFrame({'bid':[1,2,3,4,5], 'a': [10,5,0,15,40]})\n",
    "df = pd.merge(a,b,on='bid',how='left')\n",
    "df['bid']"
   ]
  },
  {
   "cell_type": "markdown",
   "metadata": {},
   "source": [
    "#### dropna() drop row/col containing NaN dropna(axis=['columns', 'rows'], thresh, how=['all', 'any'])\n",
    "#### describe()\n",
    "#### Index operator: ^ symetric difference, | union, & intersection\n",
    "#### Series: 1d-nparray with dictionar like indexing\n",
    "#### Indexer: \n",
    "2D selection: loc() explicit indexing; iloc() implicit indexing (where index ...) Masking can be used in iloc()\n",
    "\n",
    "Col selection: df.ColumnName method like, df['ColumnName'] array like"
   ]
  },
  {
   "cell_type": "markdown",
   "metadata": {},
   "source": [
    "#### ufunc\n",
    "reduce() orderless dimensionality reduction\n",
    "\n",
    "accumulate() aggregation\n",
    "#### mask\n",
    "& is np.bitwise_and; ^ is np.bitwise_xor\n",
    "\n",
    "axis=0 is column-wise"
   ]
  },
  {
   "cell_type": "code",
   "execution_count": null,
   "metadata": {},
   "outputs": [],
   "source": []
  }
 ],
 "metadata": {
  "kernelspec": {
   "display_name": "Python 3",
   "language": "python",
   "name": "python3"
  },
  "language_info": {
   "codemirror_mode": {
    "name": "ipython",
    "version": 3
   },
   "file_extension": ".py",
   "mimetype": "text/x-python",
   "name": "python",
   "nbconvert_exporter": "python",
   "pygments_lexer": "ipython3",
   "version": "3.7.3"
  }
 },
 "nbformat": 4,
 "nbformat_minor": 2
}
